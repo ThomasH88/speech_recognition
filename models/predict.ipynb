{
 "cells": [
  {
   "cell_type": "code",
   "execution_count": 1,
   "metadata": {},
   "outputs": [],
   "source": [
    "import tensorflow as tf\n",
    "import numpy as np\n",
    "import pandas as pd\n",
    "import os"
   ]
  },
  {
   "cell_type": "code",
   "execution_count": null,
   "metadata": {},
   "outputs": [],
   "source": [
    "def import_data(file_name):\n",
    "    path = \"../resources/test_csv/\"\n",
    "    test_df = pd.read_csv(os.path.join(path, file_name))\n",
    "    fnames = test_df[\"fname\"]\n",
    "    test_df.drop(labels=\"fname\", axis='columns', inplace=True)\n",
    "    features = test_df.values.reshape(-1, 129, 71, 1)\n",
    "    return (features, fnames)"
   ]
  },
  {
   "cell_type": "code",
   "execution_count": null,
   "metadata": {},
   "outputs": [],
   "source": [
    "def submit(model_array, models_path, features, fnames, classes, threshold=0.6):\n",
    "    if (type(threshold) == int):\n",
    "        threshold = [threshold] * len(model_array)\n",
    "    for i in range(len(model_array)):\n",
    "        print(\"loading model {} - {}/{}\".format(model_array[i], i, len(model_array)))\n",
    "        model = tf.keras.models.load_model(os.path.join(models_path, model_array[i] + \".h5\"))\n",
    "        preds = model.predict(features, batch_size=256, verbose=1)\n",
    "        max_ind = np.argmax(preds, axis=1)\n",
    "        max_val = preds.max(axis=1)\n",
    "        predictions = np.where(max_val < threshold[i], 11, max_ind)\n",
    "        predictions = np.vectorize(classes.get)(predictions)\n",
    "        print(\"writing to file...\")\n",
    "        submission = pd.DataFrame({\"fname\": fnames, \"label\": predictions})\n",
    "        submission_name = \"submissions/submission_{}_t_{}.csv\".format(model_array[i], threshold[i])\n",
    "        if (os.path.isfile(submission_name)):\n",
    "            submission.to_csv(submission_name,\n",
    "                              header=False, mode='a', index=False)\n",
    "        else:\n",
    "            submission.to_csv(submission_name, index=False)"
   ]
  },
  {
   "cell_type": "code",
   "execution_count": 14,
   "metadata": {},
   "outputs": [],
   "source": [
    "#file_array = next(os.walk(\"../resources/test_csv/\"))[2]\n",
    "model_array = [] # list of models\n",
    "models_path = \"../models/saved_models\"\n",
    "classes = {0: \"yes\", 1: \"no\", 2: \"up\", 3: \"down\", 4: \"left\", 5: \"right\", 6: \"on\",\n",
    "           7: \"off\", 8: \"stop\", 9: \"go\", 10: \"silence\", 11: \"unknown\"}\n",
    "threshold = 0.7"
   ]
  },
  {
   "cell_type": "code",
   "execution_count": null,
   "metadata": {},
   "outputs": [],
   "source": [
    "%%time\n",
    "for i in range(8):\n",
    "    print(\"importing data... {} out of {}\".format(i + 1, 8))\n",
    "    features, fnames = import_data(file_array[i])\n",
    "    print(\"finished importing\")\n",
    "    submit(model_array, models_path, features, fnames, classes, threshold)\n",
    "    %reset_selective -f features\n",
    "    %reset_selective -f fnames"
   ]
  }
 ],
 "metadata": {
  "kernelspec": {
   "display_name": "Python 3",
   "language": "python",
   "name": "python3"
  },
  "language_info": {
   "codemirror_mode": {
    "name": "ipython",
    "version": 3
   },
   "file_extension": ".py",
   "mimetype": "text/x-python",
   "name": "python",
   "nbconvert_exporter": "python",
   "pygments_lexer": "ipython3",
   "version": "3.7.2"
  }
 },
 "nbformat": 4,
 "nbformat_minor": 2
}
