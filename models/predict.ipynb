{
 "cells": [
  {
   "cell_type": "code",
   "execution_count": null,
   "metadata": {},
   "outputs": [],
   "source": [
    "import tensorflow as tf\n",
    "import numpy as np\n",
    "import pandas as pd\n",
    "import os"
   ]
  },
  {
   "cell_type": "code",
   "execution_count": null,
   "metadata": {},
   "outputs": [],
   "source": [
    "file_array = next(os.walk(\"../resources/test_csv/\"))[2]\n",
    "file_array.sort()"
   ]
  },
  {
   "cell_type": "code",
   "execution_count": null,
   "metadata": {},
   "outputs": [],
   "source": [
    "model = tf.keras.models.load_model(\"/home/thomashm88/other_model_speech_recognition.h5\")"
   ]
  },
  {
   "cell_type": "code",
   "execution_count": null,
   "metadata": {},
   "outputs": [],
   "source": [
    "def import_data(file_name):\n",
    "    path = \"../resources/test_csv/\"\n",
    "    test_df = pd.read_csv(os.path.join(path, file_name))\n",
    "    fnames = test_df[\"fname\"]\n",
    "    test_df.drop(labels=\"fname\", axis='columns', inplace=True)\n",
    "    features = test_df.values.reshape(-1, 129, 71, 1)\n",
    "    return (features, fnames)"
   ]
  },
  {
   "cell_type": "code",
   "execution_count": null,
   "metadata": {},
   "outputs": [],
   "source": [
    "def submit(features, fnames, file_name=None):\n",
    "    #classes = {0: \"yes\", 1: \"no\", 2: \"up\", 3: \"down\", 4: \"left\", 5: \"right\", 6: \"on\",\n",
    "               #7: \"off\", 8: \"stop\", 9: \"go\", 10: \"silence\", 11: \"unknown\"}\n",
    "    classes = {0 : \"silence\", 1 : \"down\", 2 : \"go\", 3 : \"left\", 4 : \"no\", 5 : \"off\", 6 : \"on\",\n",
    "               7 : \"right\", 8 : \"stop\", 9 : \"up\", 10 : \"yes\", 11: \"unknown\"}\n",
    "    preds = model.predict(features, batch_size=256, verbose=1)\n",
    "    max_ind = np.argmax(preds, axis=1)\n",
    "    max_val = preds.max(axis=1)\n",
    "    predictions = np.where(max_val < 0.65, 11, max_ind)\n",
    "    predictions = np.vectorize(classes.get)(predictions)\n",
    "    submission = pd.DataFrame({\"fname\": fnames, \"label\": predictions})\n",
    "    if (file_name == None):\n",
    "        submission.to_csv(path_or_buf=\"submissions/other_submission.csv\", index=False)\n",
    "    else:\n",
    "        submission.to_csv(path_or_buf=file_name, header=False, mode='a', index=False)\n",
    "    return (submission)"
   ]
  },
  {
   "cell_type": "code",
   "execution_count": null,
   "metadata": {},
   "outputs": [],
   "source": [
    "%%time\n",
    "for i in range(8):\n",
    "    print(\"importing data... {} out of {}\".format(i + 1, 8))\n",
    "    features, fnames = import_data(file_array[i])\n",
    "    print(\"finished importing\")\n",
    "    if (i == 0):\n",
    "        submit(features, fnames)\n",
    "    else:\n",
    "        submit(features, fnames, file_name=\"submissions/other_submission.csv\")\n",
    "    %reset_selective -f features\n",
    "    %reset_selective -f fnames"
   ]
  }
 ],
 "metadata": {
  "kernelspec": {
   "display_name": "Python 3",
   "language": "python",
   "name": "python3"
  },
  "language_info": {
   "codemirror_mode": {
    "name": "ipython",
    "version": 3
   },
   "file_extension": ".py",
   "mimetype": "text/x-python",
   "name": "python",
   "nbconvert_exporter": "python",
   "pygments_lexer": "ipython3",
   "version": "3.6.8"
  }
 },
 "nbformat": 4,
 "nbformat_minor": 2
}
