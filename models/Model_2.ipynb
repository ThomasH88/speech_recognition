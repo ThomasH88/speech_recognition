{
 "cells": [
  {
   "cell_type": "code",
   "execution_count": 1,
   "metadata": {},
   "outputs": [],
   "source": [
    "import tensorflow as tf\n",
    "import numpy as np\n",
    "import pandas as pd\n",
    "from tensorflow.python.keras.callbacks import TensorBoard\n",
    "from time import time\n",
    "import matplotlib.pyplot as plt"
   ]
  },
  {
   "cell_type": "code",
   "execution_count": 2,
   "metadata": {},
   "outputs": [],
   "source": [
    "spec_df = pd.read_csv(\"../resources/train_csv/full_dataset.csv\")\n",
    "back_df = pd.read_csv(\"../resources/train_csv/background_noise.csv\")"
   ]
  },
  {
   "cell_type": "code",
   "execution_count": 3,
   "metadata": {},
   "outputs": [],
   "source": [
    "columns = spec_df.columns.tolist()\n",
    "back_df = back_df[columns]"
   ]
  },
  {
   "cell_type": "code",
   "execution_count": 6,
   "metadata": {},
   "outputs": [],
   "source": [
    "spec_df = pd.concat((spec_df, back_df)).reset_index(drop=True)\n",
    "del back_df"
   ]
  },
  {
   "cell_type": "code",
   "execution_count": 8,
   "metadata": {
    "scrolled": false
   },
   "outputs": [],
   "source": [
    "spec_df = spec_df.sample(frac=1)"
   ]
  },
  {
   "cell_type": "code",
   "execution_count": 9,
   "metadata": {},
   "outputs": [],
   "source": [
    "labels = spec_df['labels'].values\n",
    "labels = tf.keras.utils.to_categorical(labels) # one hot encode labels\n",
    "spec_df.drop(labels=\"labels\", axis='columns', inplace=True)\n",
    "features = spec_df.values\n",
    "features = features.reshape(-1, 129, 71, 1)"
   ]
  },
  {
   "cell_type": "code",
   "execution_count": 10,
   "metadata": {},
   "outputs": [
    {
     "data": {
      "text/plain": [
       "<matplotlib.image.AxesImage at 0x7f1fba7fd550>"
      ]
     },
     "execution_count": 10,
     "metadata": {},
     "output_type": "execute_result"
    },
    {
     "data": {
      "image/png": "[encoded data removed]",
      "text/plain": [
       "<Figure size 432x288 with 1 Axes>"
      ]
     },
     "metadata": {},
     "output_type": "display_data"
    }
   ],
   "source": [
    "plt.imshow(features[0].reshape(129, 71))"
   ]
  },
  {
   "cell_type": "code",
   "execution_count": 11,
   "metadata": {},
   "outputs": [
    {
     "name": "stdout",
     "output_type": "stream",
     "text": [
      "Model: \"sequential\"\n",
      "_________________________________________________________________\n",
      "Layer (type)                 Output Shape              Param #   \n",
      "=================================================================\n",
      "conv2d (Conv2D)              (None, 129, 71, 64)       640       \n",
      "_________________________________________________________________\n",
      "conv2d_1 (Conv2D)            (None, 129, 71, 64)       36928     \n",
      "_________________________________________________________________\n",
      "max_pooling2d (MaxPooling2D) (None, 43, 24, 64)        0         \n",
      "_________________________________________________________________\n",
      "conv2d_2 (Conv2D)            (None, 43, 24, 128)       73856     \n",
      "_________________________________________________________________\n",
      "conv2d_3 (Conv2D)            (None, 43, 24, 128)       147584    \n",
      "_________________________________________________________________\n",
      "max_pooling2d_1 (MaxPooling2 (None, 15, 8, 128)        0         \n",
      "_________________________________________________________________\n",
      "conv2d_4 (Conv2D)            (None, 15, 8, 256)        295168    \n",
      "_________________________________________________________________\n",
      "conv2d_5 (Conv2D)            (None, 15, 8, 256)        590080    \n",
      "_________________________________________________________________\n",
      "conv2d_6 (Conv2D)            (None, 15, 8, 256)        590080    \n",
      "_________________________________________________________________\n",
      "max_pooling2d_2 (MaxPooling2 (None, 5, 3, 256)         0         \n",
      "_________________________________________________________________\n",
      "conv2d_7 (Conv2D)            (None, 5, 3, 512)         1180160   \n",
      "_________________________________________________________________\n",
      "conv2d_8 (Conv2D)            (None, 5, 3, 512)         2359808   \n",
      "_________________________________________________________________\n",
      "conv2d_9 (Conv2D)            (None, 5, 3, 512)         2359808   \n",
      "_________________________________________________________________\n",
      "flatten (Flatten)            (None, 7680)              0         \n",
      "_________________________________________________________________\n",
      "dense (Dense)                (None, 2048)              15730688  \n",
      "_________________________________________________________________\n",
      "dropout (Dropout)            (None, 2048)              0         \n",
      "_________________________________________________________________\n",
      "dense_1 (Dense)              (None, 1024)              2098176   \n",
      "_________________________________________________________________\n",
      "dropout_1 (Dropout)          (None, 1024)              0         \n",
      "_________________________________________________________________\n",
      "dense_2 (Dense)              (None, 512)               524800    \n",
      "_________________________________________________________________\n",
      "dropout_2 (Dropout)          (None, 512)               0         \n",
      "_________________________________________________________________\n",
      "dense_3 (Dense)              (None, 11)                5643      \n",
      "=================================================================\n",
      "Total params: 25,993,419\n",
      "Trainable params: 25,993,419\n",
      "Non-trainable params: 0\n",
      "_________________________________________________________________\n"
     ]
    }
   ],
   "source": [
    "tensorboard = TensorBoard(log_dir=\"logs/model_1_{}\".format(time()))\n",
    "\n",
    "model = tf.keras.Sequential()\n",
    "model.add(tf.keras.layers.Conv2D(filters=64, kernel_size=3, strides=(1, 1), padding=\"same\",\n",
    "                                 activation='relu', kernel_initializer='he_normal', input_shape=(129, 71, 1)))\n",
    "model.add(tf.keras.layers.Conv2D(filters=64, kernel_size=3, strides=(1, 1),\n",
    "                                 padding=\"same\", activation='relu', kernel_initializer='he_normal'))\n",
    "model.add(tf.keras.layers.MaxPool2D(pool_size=(3, 3), padding=\"same\"))\n",
    "model.add(tf.keras.layers.Conv2D(filters=128, kernel_size=3, strides=(1, 1),\n",
    "                                 padding=\"same\", activation='relu', kernel_initializer='he_normal'))\n",
    "model.add(tf.keras.layers.Conv2D(filters=128, kernel_size=3, strides=(1, 1),\n",
    "                                 padding=\"same\", activation='relu', kernel_initializer='he_normal'))\n",
    "model.add(tf.keras.layers.MaxPool2D(pool_size=(3, 3), padding=\"same\"))\n",
    "model.add(tf.keras.layers.Conv2D(filters=256, kernel_size=3, strides=(1, 1),\n",
    "                                 padding=\"same\", activation='relu', kernel_initializer='he_normal'))\n",
    "model.add(tf.keras.layers.Conv2D(filters=256, kernel_size=3, strides=(1, 1),\n",
    "                                 padding=\"same\", activation='relu', kernel_initializer='he_normal'))\n",
    "model.add(tf.keras.layers.Conv2D(filters=256, kernel_size=3, strides=(1, 1),\n",
    "                                 padding=\"same\", activation='relu', kernel_initializer='he_normal'))\n",
    "model.add(tf.keras.layers.MaxPool2D(pool_size=(3, 3), padding=\"same\"))\n",
    "model.add(tf.keras.layers.Conv2D(filters=512, kernel_size=3, strides=(1, 1),\n",
    "                                 padding=\"same\", activation='relu', kernel_initializer='he_normal'))\n",
    "model.add(tf.keras.layers.Conv2D(filters=512, kernel_size=3, strides=(1, 1),\n",
    "                                 padding=\"same\", activation='relu', kernel_initializer='he_normal'))\n",
    "model.add(tf.keras.layers.Conv2D(filters=512, kernel_size=3, strides=(1, 1),\n",
    "                                 padding=\"same\", activation='relu', kernel_initializer='he_normal'))\n",
    "model.add(tf.keras.layers.Flatten())\n",
    "model.add(tf.keras.layers.Dense(2048, activation='relu', kernel_initializer='he_normal'))\n",
    "model.add(tf.keras.layers.Dropout(0.5))\n",
    "model.add(tf.keras.layers.Dense(1024, activation='relu', kernel_initializer='he_normal'))\n",
    "model.add(tf.keras.layers.Dropout(0.5))\n",
    "model.add(tf.keras.layers.Dense(512, activation='relu', kernel_initializer='he_normal'))\n",
    "model.add(tf.keras.layers.Dropout(0.5))\n",
    "model.add(tf.keras.layers.Dense(11, activation='softmax'))\n",
    "\n",
    "optimizer = tf.keras.optimizers.Adam(learning_rate=0.0003, beta_1=0.9, beta_2=0.999)\n",
    "model.compile(optimizer=optimizer,\n",
    "              loss='categorical_crossentropy',\n",
    "              metrics=['accuracy'])\n",
    "model.summary()"
   ]
  },
  {
   "cell_type": "code",
   "execution_count": 12,
   "metadata": {},
   "outputs": [
    {
     "name": "stdout",
     "output_type": "stream",
     "text": [
      "Train on 20825 samples, validate on 5207 samples\n",
      "Epoch 1/15\n",
      "20825/20825 [==============================] - 113s 5ms/sample - loss: 2.8209 - accuracy: 0.1795 - val_loss: 1.9371 - val_accuracy: 0.3205\n",
      "Epoch 2/15\n",
      "20825/20825 [==============================] - 86s 4ms/sample - loss: 1.5816 - accuracy: 0.4106 - val_loss: 0.8752 - val_accuracy: 0.6566\n",
      "Epoch 3/15\n",
      "20825/20825 [==============================] - 86s 4ms/sample - loss: 0.7301 - accuracy: 0.7455 - val_loss: 0.3759 - val_accuracy: 0.8719\n",
      "Epoch 4/15\n",
      "20825/20825 [==============================] - 87s 4ms/sample - loss: 0.3762 - accuracy: 0.8796 - val_loss: 0.2603 - val_accuracy: 0.9155\n",
      "Epoch 5/15\n",
      "20825/20825 [==============================] - 87s 4ms/sample - loss: 0.2637 - accuracy: 0.9183 - val_loss: 0.2281 - val_accuracy: 0.9293\n",
      "Epoch 6/15\n",
      "20825/20825 [==============================] - 87s 4ms/sample - loss: 0.2295 - accuracy: 0.9305 - val_loss: 0.2391 - val_accuracy: 0.9249\n",
      "Epoch 7/15\n",
      "20825/20825 [==============================] - 87s 4ms/sample - loss: 0.1699 - accuracy: 0.9472 - val_loss: 0.2003 - val_accuracy: 0.9355\n",
      "Epoch 8/15\n",
      "20825/20825 [==============================] - 87s 4ms/sample - loss: 0.1429 - accuracy: 0.9550 - val_loss: 0.1874 - val_accuracy: 0.9395\n",
      "Epoch 9/15\n",
      "20825/20825 [==============================] - 87s 4ms/sample - loss: 0.1266 - accuracy: 0.9604 - val_loss: 0.1623 - val_accuracy: 0.9506\n",
      "Epoch 10/15\n",
      "20825/20825 [==============================] - 88s 4ms/sample - loss: 0.1088 - accuracy: 0.9669 - val_loss: 0.1874 - val_accuracy: 0.9483\n",
      "Epoch 11/15\n",
      "20825/20825 [==============================] - 87s 4ms/sample - loss: 0.0887 - accuracy: 0.9719 - val_loss: 0.1966 - val_accuracy: 0.9462\n",
      "Epoch 12/15\n",
      "20825/20825 [==============================] - 87s 4ms/sample - loss: 0.1192 - accuracy: 0.9639 - val_loss: 0.1687 - val_accuracy: 0.9524\n",
      "Epoch 13/15\n",
      "20825/20825 [==============================] - 88s 4ms/sample - loss: 0.0864 - accuracy: 0.9736 - val_loss: 0.2165 - val_accuracy: 0.9445\n",
      "Epoch 14/15\n",
      "20825/20825 [==============================] - 88s 4ms/sample - loss: 0.0905 - accuracy: 0.9724 - val_loss: 0.2169 - val_accuracy: 0.9399\n",
      "Epoch 15/15\n",
      "20825/20825 [==============================] - 87s 4ms/sample - loss: 0.1037 - accuracy: 0.9699 - val_loss: 0.2135 - val_accuracy: 0.9432\n"
     ]
    },
    {
     "data": {
      "text/plain": [
       "<tensorflow.python.keras.callbacks.History at 0x7f1fc1555c18>"
      ]
     },
     "execution_count": 12,
     "metadata": {},
     "output_type": "execute_result"
    }
   ],
   "source": [
    "model.fit(x=features,\n",
    "          y=labels,\n",
    "          batch_size=128,\n",
    "          epochs=15,\n",
    "          validation_split=0.2,\n",
    "          callbacks=[tensorboard])"
   ]
  },
  {
   "cell_type": "code",
   "execution_count": 13,
   "metadata": {},
   "outputs": [],
   "source": [
    "model.save('saved_models/model_3.h5')"
   ]
  },
  {
   "cell_type": "code",
   "execution_count": null,
   "metadata": {},
   "outputs": [],
   "source": []
  }
 ],
 "metadata": {
  "kernelspec": {
   "display_name": "Python 3",
   "language": "python",
   "name": "python3"
  },
  "language_info": {
   "codemirror_mode": {
    "name": "ipython",
    "version": 3
   },
   "file_extension": ".py",
   "mimetype": "text/x-python",
   "name": "python",
   "nbconvert_exporter": "python",
   "pygments_lexer": "ipython3",
   "version": "3.6.8"
  }
 },
 "nbformat": 4,
 "nbformat_minor": 2
}
