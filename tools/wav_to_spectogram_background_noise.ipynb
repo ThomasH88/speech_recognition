{
 "cells": [
  {
   "cell_type": "code",
   "execution_count": null,
   "metadata": {},
   "outputs": [],
   "source": [
    "from scipy import signal\n",
    "from scipy.io import wavfile\n",
    "import matplotlib.pyplot as plt\n",
    "import numpy as np\n",
    "import random\n",
    "import tensorflow as tf\n",
    "import pandas as pd\n",
    "import os"
   ]
  },
  {
   "cell_type": "code",
   "execution_count": null,
   "metadata": {},
   "outputs": [],
   "source": [
    "def wav_files_to_csv(dest_path):\n",
    "    path = \"../resources/train/audio/_background_noise_/one_second/\"\n",
    "    file_names = next(os.walk(os.path.join(path)))[2]\n",
    "    file_names.sort()\n",
    "    arr_1 = np.zeros(shape=(2350 , 9159))\n",
    "    file_count = 0\n",
    "    row = 0\n",
    "    for file in file_names:\n",
    "        audio = os.path.join(path, file)\n",
    "        sample_rate, samples = wavfile.read(audio)\n",
    "        if (samples.shape[0] < 16000):\n",
    "            samples = np.append(samples, np.zeros(16000 - samples.shape[0]))\n",
    "        freq, times, spectrogram = signal.spectrogram(samples, sample_rate)\n",
    "        spectrogram = spectrogram.flatten()\n",
    "        #spectrogram = np.log(spectrogram + 0.000001)\n",
    "        #spectrogram = np.where(spectrogram == 0, 0, np.log(spectrogram))\n",
    "        arr_1[row] = spectrogram\n",
    "        row += 1\n",
    "        file_count += 1\n",
    "        if (file_count % 100 == 0):\n",
    "            print(\"file: {} of {}\".format(file_count, 402))\n",
    "    arr_1 = np.log(arr_1 + 0.00000001)\n",
    "    print(\"converting to csv...\")\n",
    "    columns = []\n",
    "    for i in range(9159):\n",
    "        columns.append(\"p\" + str(i))\n",
    "    df = pd.DataFrame(data=arr_1, columns=columns)\n",
    "    df[\"labels\"] = 10\n",
    "    df = df.sample(frac=1) #shuffle rows\n",
    "    df.to_csv(path_or_buf=dest_path + \"background_noise.csv\", index=False)"
   ]
  },
  {
   "cell_type": "code",
   "execution_count": null,
   "metadata": {},
   "outputs": [],
   "source": [
    "wav_files_to_csv(\"../resources/train_csv/\")"
   ]
  },
  {
   "cell_type": "code",
   "execution_count": null,
   "metadata": {},
   "outputs": [],
   "source": [
    "#test = pd.read_csv(\"../resources/train_csv/background_noise.csv\")"
   ]
  },
  {
   "cell_type": "code",
   "execution_count": null,
   "metadata": {},
   "outputs": [],
   "source": [
    "#test"
   ]
  },
  {
   "cell_type": "code",
   "execution_count": null,
   "metadata": {},
   "outputs": [],
   "source": []
  }
 ],
 "metadata": {
  "kernelspec": {
   "display_name": "Python 3",
   "language": "python",
   "name": "python3"
  },
  "language_info": {
   "codemirror_mode": {
    "name": "ipython",
    "version": 3
   },
   "file_extension": ".py",
   "mimetype": "text/x-python",
   "name": "python",
   "nbconvert_exporter": "python",
   "pygments_lexer": "ipython3",
   "version": "3.7.2"
  }
 },
 "nbformat": 4,
 "nbformat_minor": 2
}
