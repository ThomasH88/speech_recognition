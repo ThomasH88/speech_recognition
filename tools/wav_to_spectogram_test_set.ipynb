{
 "cells": [
  {
   "cell_type": "code",
   "execution_count": null,
   "metadata": {},
   "outputs": [],
   "source": [
    "from scipy import signal\n",
    "from scipy.io import wavfile\n",
    "import matplotlib.pyplot as plt\n",
    "import numpy as np\n",
    "import random\n",
    "import tensorflow as tf\n",
    "import pandas as pd\n",
    "import os\n",
    "import sys"
   ]
  },
  {
   "cell_type": "code",
   "execution_count": null,
   "metadata": {},
   "outputs": [],
   "source": [
    "def wav_files_to_csv(dest_path, start, end):\n",
    "    path = \"../resources/test/audio/\"\n",
    "    file_names = next(os.walk(os.path.join(path)))[2]\n",
    "    file_names.sort()\n",
    "    file_names = file_names[start:end]\n",
    "    arr_1 = np.zeros(shape=((end - start) // 2, 9159))\n",
    "    arr_2 = np.zeros(shape=((end - start) // 2, 9159))\n",
    "    if (end == 158538):\n",
    "        arr_2 = np.zeros(shape=(18538, 9159))\n",
    "    file_count = 0\n",
    "    row = 0\n",
    "    for file in file_names:\n",
    "        audio = os.path.join(path, file)\n",
    "        sample_rate, samples = wavfile.read(audio)\n",
    "        if (samples.shape[0] < 16000):\n",
    "            samples = np.append(samples, np.zeros(16000 - samples.shape[0]))\n",
    "        freq, times, spectrogram = signal.spectrogram(samples, sample_rate)\n",
    "        spectrogram = spectrogram.flatten()\n",
    "        spectrogram = np.where(spectrogram == 0, 0, np.log(spectrogram))\n",
    "        if (file_count == arr_1.shape[0]):\n",
    "            row = 0\n",
    "        if (file_count >= arr_1.shape[0]):\n",
    "            arr_2[row] = spectrogram\n",
    "        else:\n",
    "            arr_1[row] = spectrogram\n",
    "        row += 1\n",
    "        file_count += 1\n",
    "        if (file_count % 200 == 0):\n",
    "            print(\"({}-{}) file: {} of {}\".format(start, end, file_count, end - start))\n",
    "    print(\"converting to csv...\")\n",
    "    columns = []\n",
    "    for i in range(9159):\n",
    "        columns.append(\"p\" + str(i))\n",
    "    df = pd.DataFrame(data=arr_1, columns=columns)\n",
    "    df[\"fname\"] = file_names[:arr_1.shape[0]]\n",
    "    df = df.sample(frac=1) #shuffle rows\n",
    "    df.to_csv(path_or_buf=dest_path + \"test_{}_{}_1.csv\".format(start, end), index=False)\n",
    "    \n",
    "    del df\n",
    "    df = pd.DataFrame(data=arr_2, columns=columns)\n",
    "    df[\"fname\"] = file_names[arr_1.shape[0]:]\n",
    "    df = df.sample(frac=1) #shuffle rows\n",
    "    df.to_csv(path_or_buf=dest_path + \"test_{}_{}_2.csv\".format(start, end), index=False)"
   ]
  },
  {
   "cell_type": "code",
   "execution_count": null,
   "metadata": {},
   "outputs": [],
   "source": [
    "wav_files_to_csv(\"../resources/test_csv/\", int(sys.argv[1]), int(sys.argv[2]))\n",
    "#wav_files_to_csv(\"../resources/test_csv/\", 0, 10000)"
   ]
  },
  {
   "cell_type": "code",
   "execution_count": null,
   "metadata": {},
   "outputs": [],
   "source": [
    "# test = pd.read_csv(\"../resources/test_csv/test_0_10000_1.csv\")\n",
    "# test2 = pd.read_csv(\"../resources/test_csv/test_0_10000_2.csv\")"
   ]
  },
  {
   "cell_type": "code",
   "execution_count": null,
   "metadata": {},
   "outputs": [],
   "source": [
    "# test = test.sort_values(\"fname\")\n",
    "# test2 = test2.sort_values(\"fname\")\n",
    "# test = test.reset_index(drop=True)\n",
    "# test2 = test2.reset_index(drop=True)\n",
    "# fnames = test[\"fname\"]\n",
    "# fnames2 = test2[\"fname\"]\n",
    "# test2 = test2.drop(labels=\"fname\", axis='columns')\n",
    "# test = test.drop(labels=\"fname\", axis='columns')"
   ]
  },
  {
   "cell_type": "code",
   "execution_count": null,
   "metadata": {},
   "outputs": [],
   "source": [
    "# nb_1 = 3567\n",
    "# print(fnames[nb_1])\n",
    "# plt.pcolormesh(test.values[nb_1].reshape(129, 71));"
   ]
  },
  {
   "cell_type": "code",
   "execution_count": null,
   "metadata": {},
   "outputs": [],
   "source": [
    "# print(fnames2[nb_1])\n",
    "# plt.pcolormesh(test2.values[nb_1].reshape(129, 71));"
   ]
  }
 ],
 "metadata": {
  "kernelspec": {
   "display_name": "Python 3",
   "language": "python",
   "name": "python3"
  },
  "language_info": {
   "codemirror_mode": {
    "name": "ipython",
    "version": 3
   },
   "file_extension": ".py",
   "mimetype": "text/x-python",
   "name": "python",
   "nbconvert_exporter": "python",
   "pygments_lexer": "ipython3",
   "version": "3.7.2"
  }
 },
 "nbformat": 4,
 "nbformat_minor": 2
}
