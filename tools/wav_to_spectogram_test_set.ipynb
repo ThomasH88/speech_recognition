{
 "cells": [
  {
   "cell_type": "code",
   "execution_count": 1,
   "metadata": {},
   "outputs": [],
   "source": [
    "from scipy import signal\n",
    "from scipy.io import wavfile\n",
    "import matplotlib.pyplot as plt\n",
    "import numpy as np\n",
    "import os\n",
    "import random\n",
    "import tensorflow as tf\n",
    "import pandas as pd"
   ]
  },
  {
   "cell_type": "code",
   "execution_count": 11,
   "metadata": {},
   "outputs": [],
   "source": [
    "def wav_files_to_csv(dest_path):\n",
    "    columns = [\"fname\"]\n",
    "    for i in range(9159):\n",
    "        columns.append(\"p\" + str(i))\n",
    "    df = pd.DataFrame(columns=columns)\n",
    "    df = df.astype({\"fname\": })\n",
    "    path = \"../resources/test/audio/\"\n",
    "    \n",
    "    row = 0\n",
    "    file_names = next(os.walk(os.path.join(path, directory)))[2]\n",
    "    \n",
    "    file_count = 0\n",
    "    for file in file_names:\n",
    "        audio = os.path.join(path, file)\n",
    "        sample_rate, samples = wavfile.read(audio)\n",
    "        if (samples.shape[0] < 16000):\n",
    "            samples = np.append(samples, np.zeros(16000 - samples.shape[0]))\n",
    "        freq, times, spectrogram = signal.spectrogram(samples, sample_rate)\n",
    "        spectrogram = spectrogram.flatten()\n",
    "        spectrogram = np.where(spectrogram == 0, 0, np.log(spectrogram))\n",
    "        spectrogram = np.insert(spectrogram, 0, file) # insert label\n",
    "        df.loc[row] = spectrogram\n",
    "        row += 1\n",
    "        file_count += 1\n",
    "        if (file_count % 100 == 0):\n",
    "            print(\"file: {} dir: {} of {}\".format(file_count, dir_count, len(directory_list)))\n",
    "    print(\"converting to csv...\")\n",
    "    df = df.astype({\"labels\": int})\n",
    "    df = df.sample(frac=1) #shuffle rows\n",
    "    df.to_csv(path_or_buf=dest_path, index=False)\n",
    "    return (df)"
   ]
  },
  {
   "cell_type": "code",
   "execution_count": 13,
   "metadata": {},
   "outputs": [
    {
     "name": "stderr",
     "output_type": "stream",
     "text": [
      "/opt/anaconda3/lib/python3.6/site-packages/ipykernel_launcher.py:24: RuntimeWarning: divide by zero encountered in log\n"
     ]
    },
    {
     "name": "stdout",
     "output_type": "stream",
     "text": [
      "file: 100 dir: 1 of 2\n",
      "file: 200 dir: 1 of 2\n",
      "file: 300 dir: 1 of 2\n",
      "file: 400 dir: 1 of 2\n",
      "file: 500 dir: 1 of 2\n",
      "file: 600 dir: 1 of 2\n",
      "file: 700 dir: 1 of 2\n",
      "file: 800 dir: 1 of 2\n",
      "file: 100 dir: 2 of 2\n",
      "file: 200 dir: 2 of 2\n",
      "file: 300 dir: 2 of 2\n",
      "file: 400 dir: 2 of 2\n",
      "file: 500 dir: 2 of 2\n",
      "file: 600 dir: 2 of 2\n",
      "file: 700 dir: 2 of 2\n",
      "file: 800 dir: 2 of 2\n",
      "converting to csv...\n"
     ]
    }
   ],
   "source": [
    "dir_list = [\"yes\", \"no\", \"up\", \"down\", \"left\", \"right\", \"on\", \"off\", \"stop\", \"go\"]\n",
    "#dir_list = [\"yes\", \"no\"]\n",
    "yes_no = wav_files_to_csv(dir_list, \"../resources/train_csv/dataset_800.csv\")"
   ]
  },
  {
   "cell_type": "code",
   "execution_count": null,
   "metadata": {},
   "outputs": [],
   "source": [
    "#directory = \"resources/train/audio/one/\"\n",
    "#file_names = next(os.walk(directory))[2]"
   ]
  },
  {
   "cell_type": "code",
   "execution_count": null,
   "metadata": {},
   "outputs": [],
   "source": [
    "def display_random(directory, file_names):\n",
    "    audio = os.path.join(directory, random.choice(file_names))\n",
    "    sample_rate, sample = wavfile.read(audio)\n",
    "    freq, times, spectogram = signal.spectrogram(sample, sample_rate)\n",
    "    print(\"sample =\", sample.shape)\n",
    "    print(\"sample_rate =\", sample_rate)\n",
    "    print(\"audio_path =\", audio)\n",
    "    print(\"spectogram =\", spectogram.shape)\n",
    "    f, ax = plt.subplots(figsize=(20, 15))\n",
    "    plt.pcolormesh(times, freq, spectogram)\n",
    "    plt.ylabel(\"Frequency [Hz]\")\n",
    "    plt.xlabel(\"Time in [sec]\")\n",
    "    plt.show()\n",
    "    plt.specgram(sample, Fs=sample_rate);"
   ]
  }
 ],
 "metadata": {
  "kernelspec": {
   "display_name": "Python 3",
   "language": "python",
   "name": "python3"
  },
  "language_info": {
   "codemirror_mode": {
    "name": "ipython",
    "version": 3
   },
   "file_extension": ".py",
   "mimetype": "text/x-python",
   "name": "python",
   "nbconvert_exporter": "python",
   "pygments_lexer": "ipython3",
   "version": "3.6.8"
  }
 },
 "nbformat": 4,
 "nbformat_minor": 2
}
